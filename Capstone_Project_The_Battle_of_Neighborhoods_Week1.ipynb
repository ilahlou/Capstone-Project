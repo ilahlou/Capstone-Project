{
 "cells": [
  {
   "cell_type": "markdown",
   "metadata": {},
   "source": [
    "# Capstone Project: The Battle of the Neighborhoods (Week 1)\n",
    "### Applied Data Science Capstone"
   ]
  },
  {
   "cell_type": "markdown",
   "metadata": {},
   "source": [
    "## Introduction: Business Problem <a name=\"introduction\"></a>"
   ]
  },
  {
   "cell_type": "markdown",
   "metadata": {},
   "source": [
    "<font color=Black>\n",
    "<font size = 3>\n",
    "\n",
    "An entrepreneur is looking for an ideal location to target for a new Ice Cream Shop in an area within Fairfax County, Virginia. <br> \n",
    "\n",
    "He wants to use a quantitative approach to identify the 5 best locations within the target search area. He will then pick his prefered location from these 5 identified locations. <br>\n",
    "\n",
    "His selection criteria includes:  <br>\n",
    "- Low Ice Cream Shops per capita<br>\n",
    "- Located in a commercial area <br>\n",
    "- High foot traffic<br>\n",
    "\n",
    "\n",
    "</font>"
   ]
  },
  {
   "cell_type": "markdown",
   "metadata": {},
   "source": [
    "## Data <a name=\"data\"></a>"
   ]
  },
  {
   "cell_type": "markdown",
   "metadata": {},
   "source": [
    "<font color=Black>\n",
    "<font size = 3>\n",
    "\n",
    "This problem can be solved using population data, location data and other datasets and applying some algorithms to best address the entrepreneur's selection criteria.<br>\n",
    "\n",
    "Data to be used in this analysis:<br>\n",
    "\n",
    "- The most recent population data will be extracted from Fairfax County, Virginia Open Geospatial Data web site http://data-fairfaxcountygis.opendata.arcgis.com/datasets/314bfe4019754952a715be3a33384d9d_0.csv.<br>\n",
    "  -  The population data contains the average population per household along with each household geographic location.<br>\n",
    "  -  Data will first need to be reviewed and cleaned.<br>\n",
    "- The Fairfax County boundary will also be extracted from Fairfax County, Virginia Open Geospatial Data web site https://opendata.arcgis.com/datasets/58cf8abd870e47aeb1be8911983d2d44_15.geojson.<br>\n",
    "- The search area targeted by the entrepreneur includes just a small section within the county. A polygon representing this area will therefore be created to filter only the population within the target search area.<br>\n",
    "- The target area polygon will then be divided into a grid of equal sized clusters representing sub-neighborhoods.<br>\n",
    "- The population count sum of each sub-neighborhood will then be computed and assigned to the cluster's centroid location.<br> \n",
    "- Venue data will be extracted from the Foursquare location data https://foursquare.com querying only Ice Cream Shops in the target area.<br>\n",
    "- To identify commercial areas within the Target area, Land Use data of Fairfax county will be extracted from ArcGIS Open Data web site https://opendata.arcgis.com/datasets/64abd9d8f80146a4924727dc42dfba86_0.geojson.<br>\n",
    "- Land use data will then be filtered and mapped to display only commercial areas within the target search area.<br>\n",
    "\n",
    "Once the data is collected, processed and explored, an in-depth analysis will be performed and conclusions will be drawn. The results will then be communicated to the entrepreneur for feedback.<br>\n",
    "\n",
    "</font>"
   ]
  }
 ],
 "metadata": {
  "kernelspec": {
   "display_name": "Python 3",
   "language": "python",
   "name": "python3"
  },
  "language_info": {
   "codemirror_mode": {
    "name": "ipython",
    "version": 3
   },
   "file_extension": ".py",
   "mimetype": "text/x-python",
   "name": "python",
   "nbconvert_exporter": "python",
   "pygments_lexer": "ipython3",
   "version": "3.7.3"
  }
 },
 "nbformat": 4,
 "nbformat_minor": 4
}
